{
  "nbformat": 4,
  "nbformat_minor": 0,
  "metadata": {
    "colab": {
      "name": "crawling(12/4/10pm).ipynb",
      "version": "0.3.2",
      "provenance": [],
      "collapsed_sections": [],
      "include_colab_link": true
    },
    "kernelspec": {
      "name": "python3",
      "display_name": "Python 3"
    },
    "accelerator": "GPU"
  },
  "cells": [
    {
      "cell_type": "markdown",
      "metadata": {
        "id": "view-in-github",
        "colab_type": "text"
      },
      "source": [
        "<a href=\"https://colab.research.google.com/github/Goodbam/Changing-Naver-rising-searches/blob/master/crawling(12_4_10pm).ipynb\" target=\"_parent\"><img src=\"https://colab.research.google.com/assets/colab-badge.svg\" alt=\"Open In Colab\"/></a>"
      ]
    },
    {
      "metadata": {
        "id": "tssl247HkHCi",
        "colab_type": "code",
        "outputId": "f5295bd0-015a-44cf-d8f2-3796c0c3f621",
        "colab": {
          "base_uri": "https://localhost:8080/",
          "height": 50
        }
      },
      "cell_type": "code",
      "source": [
        "!pip install lxml\n",
        "!pip install parse"
      ],
      "execution_count": 26,
      "outputs": [
        {
          "output_type": "stream",
          "text": [
            "Requirement already satisfied: lxml in /usr/local/lib/python3.6/dist-packages (4.2.5)\n",
            "Requirement already satisfied: parse in /usr/local/lib/python3.6/dist-packages (1.9.0)\n"
          ],
          "name": "stdout"
        }
      ]
    },
    {
      "metadata": {
        "id": "uxKEDAv_kLKH",
        "colab_type": "code",
        "colab": {}
      },
      "cell_type": "code",
      "source": [
        "import requests                 # url request\n",
        "from lxml.html import parse     # parsing the data as the html form\n",
        "from io import StringIO         # String I/O module\n",
        "\n",
        "THRESHOLD = 16 #limit to check whether they are relative or not\n",
        "NOISE = 9"
      ],
      "execution_count": 0,
      "outputs": []
    },
    {
      "metadata": {
        "id": "VnRDApPylNT_",
        "colab_type": "code",
        "outputId": "b59e242b-d1d9-47db-f938-b0b7e0899ee8",
        "colab": {
          "base_uri": "https://localhost:8080/",
          "height": 353
        }
      },
      "cell_type": "code",
      "source": [
        "url = \"https://www.naver.com\"\n",
        "\n",
        "# Get html source\n",
        "text = requests.get(url).text\n",
        "\n",
        "# parsing the data as the html form\n",
        "text_source = StringIO(text)    # read the data as string\n",
        "parsed = parse(text_source)     # source ->parsing the data as the html form \n",
        "\n",
        "#find root node\n",
        "doc = parsed.getroot()\n",
        "\n",
        "# doc.findall(\".//TagName\") => find the tag lists\n",
        "uls = doc.findall('.//ul')\n",
        "\n",
        "#Get the Rising searches\n",
        "ul = uls[10]   \n",
        "spans = ul.findall('.//span')\n",
        "\n",
        "data_list= []  # to save all the keywords\n",
        "\n",
        "cnt = 1\n",
        "for data in spans:\n",
        "  if cnt % 2 == 0:  \n",
        "    print(int((cnt+1)/2),'->',data.text_content().strip())  # show the existing rising searches\n",
        "  cnt +=1  \n",
        "  data_list.append(data.text_content().strip()) #save each keyword\n",
        "    \n"
      ],
      "execution_count": 28,
      "outputs": [
        {
          "output_type": "stream",
          "text": [
            "1 -> 백석역\n",
            "2 -> 이일재\n",
            "3 -> 조정민\n",
            "4 -> 필수지방산\n",
            "5 -> 이선정\n",
            "6 -> 황지만\n",
            "7 -> 류현진 등번호\n",
            "8 -> 양잿물\n",
            "9 -> 서인영\n",
            "10 -> 라라츄 헤어쿠션\n",
            "11 -> 정가은\n",
            "12 -> 이상벽\n",
            "13 -> lj\n",
            "14 -> 오일러 항등식\n",
            "15 -> 정재형\n",
            "16 -> 백석\n",
            "17 -> 처음학교로\n",
            "18 -> 라이신\n",
            "19 -> 식품안전나라\n",
            "20 -> 트로트 조정민\n"
          ],
          "name": "stdout"
        }
      ]
    },
    {
      "metadata": {
        "id": "0Xk_oFVcFzQU",
        "colab_type": "code",
        "outputId": "c70abba2-5f31-48d8-ecce-330a5ce52ba9",
        "colab": {
          "base_uri": "https://localhost:8080/",
          "height": 252
        }
      },
      "cell_type": "code",
      "source": [
        "path='https://search.naver.com/search.naver?sm=top_hty&fbm=1&ie=utf8&query=' #This is the url for surfing\n",
        "\n",
        "matrix = [] #to count the score of relationship\n",
        "label = [1,2,3,4,5,6,7,8,9,10,11,12,13,14,15,16,17,18,19,20] #disjoint set\n",
        "\n",
        "cnt1 = 0\n",
        "\n",
        "for i in range(0, 20):\n",
        "  word = data_list[1 + cnt1]\n",
        "  search = path + word #url searching the keyword\n",
        "  text = requests.get(search).text # no worry about encoding url\n",
        "  \n",
        "  row = []\n",
        "  cnt2 = 0\n",
        "  for j in range(0, 20):\n",
        "    if cnt1 != cnt2: #no need to check when they are equivalent\n",
        "      target = data_list[1 + cnt2];\n",
        "      row.append(text.count(target) + 7*word.count(target) - NOISE) \n",
        " \n",
        "      if row[int(cnt2/2)] >= THRESHOLD: #IF they are relative,\n",
        "        print(word, ' and ', target,)\n",
        "        #the representive number should be minimized\n",
        "        \n",
        "        #여기 정규화를 해서 row의합으로 각 row의 값을 나누던지 해보자\n",
        "        #그러려니, 전체적으로 점수 자체가 높은 것은 감안해서 평균을 다시 루트씌우고 곱하든지 고려해보자\n",
        "        #A와 B 관련 , B C 관련 이면 A C는 관련이 있는건가? 이것도 감안\n",
        "        \n",
        "        if label[int(cnt1/2)] < label[int(cnt2/2)]:\n",
        "          label[int(cnt2/2)] = label[int(cnt1/2)]  \n",
        "        \n",
        "        else:\n",
        "          label[int(cnt1/2)] = label[int(cnt2/2)]\n",
        "    \n",
        "    else :\n",
        "      row.append(0)\n",
        "    \n",
        "    cnt2 += 2\n",
        "  \n",
        "  matrix.append(row)  \n",
        "  cnt1 += 2\n",
        "  "
      ],
      "execution_count": 29,
      "outputs": [
        {
          "output_type": "stream",
          "text": [
            "백석역  and  백석\n",
            "이선정  and  황지만\n",
            "이선정  and  서인영\n",
            "이선정  and  정가은\n",
            "이선정  and  lj\n",
            "황지만  and  이선정\n",
            "서인영  and  이선정\n",
            "서인영  and  정가은\n",
            "정가은  and  이선정\n",
            "정가은  and  서인영\n",
            "lj  and  이선정\n",
            "lj  and  황지만\n",
            "백석  and  백석역\n",
            "트로트 조정민  and  조정민\n"
          ],
          "name": "stdout"
        }
      ]
    },
    {
      "metadata": {
        "id": "G4W-z5rSF0Gz",
        "colab_type": "code",
        "outputId": "03621482-272d-4c65-cdfd-1bffd20e7b5f",
        "colab": {
          "base_uri": "https://localhost:8080/",
          "height": 121
        }
      },
      "cell_type": "code",
      "source": [
        "print('\\n',label,'\\n')\n",
        "\n",
        "print(matrix)\n",
        "\n",
        "size = [0]\n",
        "size = size*20\n",
        "\n",
        "for i in range(0,20):\n",
        "  size[i] = sum(matrix[i])\n",
        "\n",
        "print(size)\n",
        "score =[0]\n",
        "score = score*20\n",
        "\n",
        "for i in range(0,20):\n",
        "  score[label[i] - 1] += 1/(i+1); #label is 1~20 => needed to subtract 1"
      ],
      "execution_count": 30,
      "outputs": [
        {
          "output_type": "stream",
          "text": [
            "\n",
            " [1, 2, 3, 4, 5, 5, 7, 8, 5, 10, 5, 12, 5, 14, 15, 1, 17, 18, 19, 3] \n",
            "\n",
            "[[0, 0, 9, 0, 2, 0, 0, 0, 0, 0, 0, 0, 9, 0, 0, 180, 0, 0, 0, 0], [2, 0, 9, 0, 2, 0, 0, 0, 0, 0, 0, 0, 7, 0, 0, 11, 0, 0, 0, 0], [2, 0, 0, 0, 2, 0, 0, 0, 0, 0, 0, 0, 7, 0, 0, 11, 0, 0, 0, 1], [2, 0, 9, 0, 2, 0, 0, 0, 0, 0, 0, 0, 8, 0, 0, 11, 0, 0, 0, 0], [2, 0, 9, 0, 0, 23, 0, 0, 21, 0, 28, 0, 18, 0, 0, 11, 0, 0, 0, 0], [2, 0, 9, 0, 106, 0, 0, 0, 4, 0, 2, 0, 13, 0, 0, 11, 0, 0, 0, 0], [2, 0, 9, 0, 2, 0, 0, 0, 0, 0, 0, 0, 7, 0, 0, 11, 0, 0, 0, 0], [2, 0, 9, 0, 2, 0, 0, 0, 0, 0, 0, 0, 7, 0, 0, 11, 0, 0, 0, 0], [2, 0, 9, 0, 42, 0, 0, 0, 0, 0, 23, 0, 10, 0, 0, 11, 0, 0, 0, 0], [2, 0, 9, 0, 2, 0, 0, 0, 0, 0, 0, 0, 11, 0, 0, 11, 0, 0, 0, 0], [2, 0, 9, 0, 42, 2, 0, 0, 26, 0, 0, 0, 8, 0, 0, 11, 0, 0, 0, 0], [2, 0, 9, 0, 2, 0, 0, 0, 0, 0, 0, 0, 7, 0, 0, 11, 0, 0, 0, 0], [2, 0, 9, 0, 69, 32, 0, 0, 2, 0, 4, 0, 0, 0, 0, 11, 0, 0, 0, 0], [2, 0, 9, 0, 2, 0, 0, 0, 0, 0, 0, 0, 7, 0, 0, 11, 0, 0, 0, 0], [2, 0, 9, 0, 2, 0, 0, 0, 0, 0, 0, 0, 9, 0, 0, 11, 0, 0, 0, 0], [19, 0, 9, 0, 2, 0, 0, 0, 0, 0, 0, 0, 7, 0, 0, 0, 0, 0, 0, 0], [2, 0, 9, 0, 2, 0, 0, 0, 0, 0, 0, 0, 8, 0, 0, 11, 0, 0, 0, 0], [2, 0, 9, 0, 2, 0, 0, 0, 0, 0, 0, 4, 12, 0, 0, 11, 0, 0, 0, 0], [2, 0, 9, 0, 2, 0, 0, 0, 0, 0, 0, 0, 8, 0, 0, 11, 0, 0, 0, 0], [2, 0, 151, 0, 2, 0, 0, 0, 0, 0, 0, 0, 7, 0, 0, 11, 0, 0, 0, 0]]\n",
            "[200, 31, 23, 32, 112, 147, 31, 31, 97, 35, 100, 31, 129, 31, 33, 37, 32, 40, 32, 173]\n"
          ],
          "name": "stdout"
        }
      ]
    },
    {
      "metadata": {
        "id": "QUTNRYleF0KA",
        "colab_type": "code",
        "outputId": "b94a2b45-15db-4176-ef92-25347341991e",
        "colab": {
          "base_uri": "https://localhost:8080/",
          "height": 302
        }
      },
      "cell_type": "code",
      "source": [
        "#RESULT\n",
        "print('\\n☆급상승 검색어 순위☆\\n')\n",
        "cnt = 1;\n",
        "\n",
        "#sorting according to SCORE\n",
        "for i in range(0,20):\n",
        "  max = 0\n",
        "  for j in range(1,20):\n",
        "    if score[j] > score[max]:\n",
        "      max = j;\n",
        "  \n",
        "  relative_word = ''\n",
        "  \n",
        "  for j in range(0,20):\n",
        "    if label[j] == max + 1:\n",
        "      relative_word += data_list[1 + 2*j] + ' | ' \n",
        "  \n",
        "  score[max] = 0;\n",
        "  \n",
        "  print(cnt, '. ', relative_word[0:-3])\n",
        "  cnt += 1\n",
        "  if(score.count(0) == 20):\n",
        "    break  "
      ],
      "execution_count": 31,
      "outputs": [
        {
          "output_type": "stream",
          "text": [
            "\n",
            "☆급상승 검색어 순위☆\n",
            "\n",
            "1 .  백석역 | 백석\n",
            "2 .  이선정 | 황지만 | 서인영 | 정가은 | lj\n",
            "3 .  이일재\n",
            "4 .  조정민 | 트로트 조정민\n",
            "5 .  필수지방산\n",
            "6 .  류현진 등번호\n",
            "7 .  양잿물\n",
            "8 .  라라츄 헤어쿠션\n",
            "9 .  이상벽\n",
            "10 .  오일러 항등식\n",
            "11 .  정재형\n",
            "12 .  처음학교로\n",
            "13 .  라이신\n",
            "14 .  식품안전나라\n"
          ],
          "name": "stdout"
        }
      ]
    },
    {
      "metadata": {
        "id": "9Se8kjTi5qAY",
        "colab_type": "code",
        "colab": {}
      },
      "cell_type": "code",
      "source": [
        ""
      ],
      "execution_count": 0,
      "outputs": []
    }
  ]
}
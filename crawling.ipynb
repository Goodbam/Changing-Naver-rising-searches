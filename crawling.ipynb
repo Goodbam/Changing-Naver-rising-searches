{
  "nbformat": 4,
  "nbformat_minor": 0,
  "metadata": {
    "colab": {
      "name": "crawling.ipynb",
      "version": "0.3.2",
      "provenance": [],
      "collapsed_sections": [],
      "include_colab_link": true
    },
    "kernelspec": {
      "name": "python3",
      "display_name": "Python 3"
    }
  },
  "cells": [
    {
      "cell_type": "markdown",
      "metadata": {
        "id": "view-in-github",
        "colab_type": "text"
      },
      "source": [
        "<a href=\"https://colab.research.google.com/github/Goodbam/Changing-Naver-rising-searches/blob/master/crawling.ipynb\" target=\"_parent\"><img src=\"https://colab.research.google.com/assets/colab-badge.svg\" alt=\"Open In Colab\"/></a>"
      ]
    },
    {
      "metadata": {
        "id": "tssl247HkHCi",
        "colab_type": "code",
        "outputId": "1b39e80a-1432-4d0d-887c-768310e33626",
        "colab": {
          "base_uri": "https://localhost:8080/",
          "height": 50
        }
      },
      "cell_type": "code",
      "source": [
        "!pip install lxml\n",
        "!pip install parse"
      ],
      "execution_count": 10,
      "outputs": [
        {
          "output_type": "stream",
          "text": [
            "Requirement already satisfied: lxml in /usr/local/lib/python3.6/dist-packages (4.2.5)\n",
            "Requirement already satisfied: parse in /usr/local/lib/python3.6/dist-packages (1.9.0)\n"
          ],
          "name": "stdout"
        }
      ]
    },
    {
      "metadata": {
        "id": "uxKEDAv_kLKH",
        "colab_type": "code",
        "colab": {}
      },
      "cell_type": "code",
      "source": [
        "import requests                 # url request\n",
        "from lxml.html import parse     # parsing the data as the html form\n",
        "from io import StringIO         # String I/O module\n",
        "\n",
        "THRESHOLD = 25 #limit to check whether they are relative or not"
      ],
      "execution_count": 0,
      "outputs": []
    },
    {
      "metadata": {
        "id": "VnRDApPylNT_",
        "colab_type": "code",
        "colab": {
          "base_uri": "https://localhost:8080/",
          "height": 353
        },
        "outputId": "5864d4c2-be3d-41e2-ba2a-656eadc789e9"
      },
      "cell_type": "code",
      "source": [
        "url = \"https://www.naver.com\"\n",
        "\n",
        "# Get html source\n",
        "text = requests.get(url).text\n",
        "\n",
        "# parsing the data as the html form\n",
        "text_source = StringIO(text)    # read the data as string\n",
        "parsed = parse(text_source)     # source ->parsing the data as the html form \n",
        "\n",
        "#find root node\n",
        "doc = parsed.getroot()\n",
        "\n",
        "# doc.findall(\".//TagName\") => find the tag lists\n",
        "uls = doc.findall('.//ul')\n",
        "\n",
        "#Get the Rising searches\n",
        "ul = uls[10]   \n",
        "spans = ul.findall('.//span')\n",
        "\n",
        "data_list= []  # to save all the keywords\n",
        "\n",
        "cnt = 1\n",
        "for data in spans:\n",
        "  if cnt % 2 == 0:  \n",
        "    print(int((cnt+1)/2),'->',data.text_content().strip())  # show the existing rising searches\n",
        "  cnt +=1  \n",
        "  data_list.append(data.text_content().strip()) #save each keyword\n",
        "    \n"
      ],
      "execution_count": 12,
      "outputs": [
        {
          "output_type": "stream",
          "text": [
            "1 -> 나쁜형사\n",
            "2 -> 조병준\n",
            "3 -> 홍남기\n",
            "4 -> 더페이스샵\n",
            "5 -> 처음학교로\n",
            "6 -> mp그룹\n",
            "7 -> 땐뽀걸즈\n",
            "8 -> 남선알미늄\n",
            "9 -> 2019 수능 등급컷\n",
            "10 -> 준스피자\n",
            "11 -> 미스터피자\n",
            "12 -> 김혜경\n",
            "13 -> 이영자\n",
            "14 -> 손태영\n",
            "15 -> 노니\n",
            "16 -> 수능 성적 발표\n",
            "17 -> 수능 등급컷\n",
            "18 -> 국민대학교\n",
            "19 -> 조제 호랑이 그리고 물고기들\n",
            "20 -> 설인아\n"
          ],
          "name": "stdout"
        }
      ]
    },
    {
      "metadata": {
        "id": "0Xk_oFVcFzQU",
        "colab_type": "code",
        "colab": {
          "base_uri": "https://localhost:8080/",
          "height": 101
        },
        "outputId": "aa1fa585-c557-443a-8b15-69ecf2e73ee7"
      },
      "cell_type": "code",
      "source": [
        "path='https://search.naver.com/search.naver?sm=top_hty&fbm=1&ie=utf8&query=' #This is the url for surfing\n",
        "\n",
        "matrix = [] #to count the score of relationship\n",
        "label = [1,2,3,4,5,6,7,8,9,10,11,12,13,14,15,16,17,18,19,20] #disjoint set\n",
        "\n",
        "cnt1 = 0\n",
        "\n",
        "for i in range(0, 20):\n",
        "  word = data_list[1 + cnt1]\n",
        "  search = path + word #url searching the keyword\n",
        "  text = requests.get(search).text # no worry about encoding url\n",
        "  \n",
        "  row = []\n",
        "  cnt2 = 0\n",
        "  for j in range(0, 20):\n",
        "    if cnt1 != cnt2: #no need to check when they are equivalent\n",
        "      target = data_list[1 + cnt2];\n",
        "      row.append(text.count(target) + 10*word.count(target)) \n",
        " \n",
        "      if row[int(cnt2/2)] >= THRESHOLD: #IF they are relative,\n",
        "        print(word, ' and ', target,)\n",
        "        #the representive number should be minimized\n",
        "        if label[int(cnt1/2)] > label[int(cnt2/2)]:\n",
        "          label[int(cnt2/2)] = label[int(cnt1/2)]  \n",
        "        \n",
        "        else:\n",
        "          label[int(cnt1/2)] = label[int(cnt2/2)]\n",
        "    \n",
        "    else :\n",
        "      row.append(0)\n",
        "    \n",
        "    cnt2 += 2\n",
        "  \n",
        "  matrix.append(row)  \n",
        "  cnt1 += 2\n",
        "  "
      ],
      "execution_count": 24,
      "outputs": [
        {
          "output_type": "stream",
          "text": [
            "조병준  and  준스피자\n",
            "mp그룹  and  미스터피자\n",
            "2019 수능 등급컷  and  수능 등급컷\n",
            "준스피자  and  조병준\n",
            "수능 성적 발표  and  수능 등급컷\n"
          ],
          "name": "stdout"
        }
      ]
    },
    {
      "metadata": {
        "id": "G4W-z5rSF0Gz",
        "colab_type": "code",
        "colab": {
          "base_uri": "https://localhost:8080/",
          "height": 104
        },
        "outputId": "b6230c7f-994e-4f09-a9a6-6da3032a2e78"
      },
      "cell_type": "code",
      "source": [
        "print('\\n',label,'\\n')\n",
        "\n",
        "print(matrix)\n",
        "\n",
        "score =[0]\n",
        "score = score*20;\n",
        "\n",
        "for i in range(0,20):\n",
        "  score[label[i] - 1] += 1/(i+1); #label is 1~20 => needed to subtract 1"
      ],
      "execution_count": 25,
      "outputs": [
        {
          "output_type": "stream",
          "text": [
            "\n",
            " [1, 10, 3, 4, 5, 11, 7, 8, 17, 10, 11, 12, 13, 14, 15, 17, 17, 18, 19, 20] \n",
            "\n",
            "[[0, 9, 9, 9, 9, 9, 16, 9, 9, 9, 11, 11, 11, 0, 9, 9, 18, 9, 9, 9], [15, 0, 9, 9, 9, 9, 11, 9, 9, 33, 11, 11, 11, 0, 9, 9, 18, 9, 9, 9], [15, 9, 0, 9, 9, 9, 11, 9, 9, 9, 11, 11, 11, 0, 9, 9, 18, 9, 9, 9], [15, 9, 9, 0, 9, 9, 11, 9, 9, 9, 11, 11, 11, 0, 9, 9, 18, 9, 9, 9], [15, 9, 9, 9, 0, 9, 11, 9, 9, 9, 11, 11, 11, 0, 9, 9, 18, 9, 9, 9], [15, 9, 9, 9, 9, 0, 11, 9, 9, 9, 107, 11, 11, 0, 9, 9, 18, 9, 9, 9], [21, 9, 9, 9, 9, 9, 0, 9, 9, 9, 11, 11, 11, 0, 9, 9, 18, 9, 9, 9], [15, 9, 9, 9, 9, 9, 11, 0, 9, 9, 11, 11, 11, 0, 9, 9, 18, 9, 9, 9], [15, 9, 9, 9, 9, 9, 11, 9, 0, 9, 11, 11, 11, 0, 9, 10, 175, 9, 9, 9], [15, 36, 9, 9, 9, 9, 11, 9, 9, 0, 11, 11, 11, 0, 9, 9, 18, 9, 9, 9], [15, 9, 9, 9, 9, 11, 11, 9, 9, 9, 0, 13, 11, 0, 9, 9, 18, 9, 9, 9], [15, 9, 9, 9, 9, 9, 11, 9, 9, 9, 11, 0, 11, 0, 9, 9, 18, 9, 9, 9], [15, 9, 9, 9, 9, 9, 11, 9, 9, 9, 11, 11, 0, 0, 9, 9, 18, 9, 9, 9], [10, 4, 4, 4, 4, 4, 6, 4, 4, 4, 6, 6, 6, 0, 4, 4, 8, 4, 4, 4], [15, 9, 9, 9, 9, 9, 11, 9, 9, 9, 11, 11, 11, 0, 0, 9, 18, 9, 9, 9], [15, 9, 9, 9, 9, 9, 11, 9, 14, 9, 11, 11, 11, 0, 9, 0, 28, 9, 9, 9], [15, 9, 9, 9, 9, 9, 11, 9, 17, 9, 11, 11, 11, 0, 9, 9, 0, 9, 9, 9], [15, 9, 9, 9, 9, 9, 11, 9, 9, 9, 11, 11, 11, 0, 9, 9, 18, 0, 9, 9], [15, 9, 9, 9, 9, 9, 13, 9, 9, 9, 11, 11, 11, 0, 9, 9, 18, 9, 0, 9], [15, 9, 9, 9, 9, 9, 11, 9, 9, 9, 11, 11, 11, 0, 9, 9, 18, 9, 9, 0]]\n"
          ],
          "name": "stdout"
        }
      ]
    },
    {
      "metadata": {
        "id": "QUTNRYleF0KA",
        "colab_type": "code",
        "colab": {
          "base_uri": "https://localhost:8080/",
          "height": 336
        },
        "outputId": "5db8e462-c783-4dd4-f02a-78c414c9add4"
      },
      "cell_type": "code",
      "source": [
        "#RESULT\n",
        "print('\\n☆급상승 검색어 순위☆\\n')\n",
        "cnt = 1;\n",
        "\n",
        "#sorting according to SCORE\n",
        "for i in range(0,20):\n",
        "  max = 0\n",
        "  for j in range(1,20):\n",
        "    if score[j] > score[max]:\n",
        "      max = j;\n",
        "  \n",
        "  relative_word = ''\n",
        "  \n",
        "  for j in range(0,20):\n",
        "    if label[j] == max + 1:\n",
        "      relative_word += data_list[1 + 2*j] + ' | ' \n",
        "  \n",
        "  score[max] = 0;\n",
        "  \n",
        "  print(cnt, '. ', relative_word[0:-3])\n",
        "  cnt += 1\n",
        "  if(score.count(0) == 20):\n",
        "    break  "
      ],
      "execution_count": 26,
      "outputs": [
        {
          "output_type": "stream",
          "text": [
            "\n",
            "☆급상승 검색어 순위☆\n",
            "\n",
            "1 .  나쁜형사\n",
            "2 .  조병준 | 준스피자\n",
            "3 .  홍남기\n",
            "4 .  mp그룹 | 미스터피자\n",
            "5 .  더페이스샵\n",
            "6 .  2019 수능 등급컷 | 수능 성적 발표 | 수능 등급컷\n",
            "7 .  처음학교로\n",
            "8 .  땐뽀걸즈\n",
            "9 .  남선알미늄\n",
            "10 .  김혜경\n",
            "11 .  이영자\n",
            "12 .  손태영\n",
            "13 .  노니\n",
            "14 .  국민대학교\n",
            "15 .  조제 호랑이 그리고 물고기들\n",
            "16 .  설인아\n"
          ],
          "name": "stdout"
        }
      ]
    },
    {
      "metadata": {
        "id": "9Se8kjTi5qAY",
        "colab_type": "code",
        "colab": {}
      },
      "cell_type": "code",
      "source": [
        ""
      ],
      "execution_count": 0,
      "outputs": []
    }
  ]
}
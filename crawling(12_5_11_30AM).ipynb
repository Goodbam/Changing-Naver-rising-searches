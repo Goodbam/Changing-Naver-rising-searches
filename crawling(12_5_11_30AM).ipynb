{
  "nbformat": 4,
  "nbformat_minor": 0,
  "metadata": {
    "colab": {
      "name": "crawling(12/5/11:30AM).ipynb",
      "version": "0.3.2",
      "provenance": [],
      "collapsed_sections": [],
      "include_colab_link": true
    },
    "kernelspec": {
      "name": "python3",
      "display_name": "Python 3"
    },
    "accelerator": "GPU"
  },
  "cells": [
    {
      "cell_type": "markdown",
      "metadata": {
        "id": "view-in-github",
        "colab_type": "text"
      },
      "source": [
        "<a href=\"https://colab.research.google.com/github/Goodbam/Changing-Naver-rising-searches/blob/master/crawling(12_5_11_30AM).ipynb\" target=\"_parent\"><img src=\"https://colab.research.google.com/assets/colab-badge.svg\" alt=\"Open In Colab\"/></a>"
      ]
    },
    {
      "metadata": {
        "id": "tssl247HkHCi",
        "colab_type": "code",
        "outputId": "8358fb71-0f68-4e2f-829d-92fa62fb20c4",
        "colab": {
          "base_uri": "https://localhost:8080/",
          "height": 50
        }
      },
      "cell_type": "code",
      "source": [
        "!pip install lxml\n",
        "!pip install parse"
      ],
      "execution_count": 34,
      "outputs": [
        {
          "output_type": "stream",
          "text": [
            "Requirement already satisfied: lxml in /usr/local/lib/python3.6/dist-packages (4.2.5)\n",
            "Requirement already satisfied: parse in /usr/local/lib/python3.6/dist-packages (1.9.0)\n"
          ],
          "name": "stdout"
        }
      ]
    },
    {
      "metadata": {
        "id": "uxKEDAv_kLKH",
        "colab_type": "code",
        "colab": {}
      },
      "cell_type": "code",
      "source": [
        "import requests                 # url request\n",
        "from lxml.html import parse     # parsing the data as the html form\n",
        "from io import StringIO         # String I/O module\n",
        "\n",
        "THRESHOLD = 28 #limit to check whether they are relative or not\n",
        "NOISE = 9"
      ],
      "execution_count": 0,
      "outputs": []
    },
    {
      "metadata": {
        "id": "VnRDApPylNT_",
        "colab_type": "code",
        "outputId": "4720745b-b36f-4207-cc5b-9400878ab5c6",
        "colab": {
          "base_uri": "https://localhost:8080/",
          "height": 353
        }
      },
      "cell_type": "code",
      "source": [
        "url = \"https://www.naver.com\"\n",
        "\n",
        "# Get html source\n",
        "text = requests.get(url).text\n",
        "\n",
        "# parsing the data as the html form\n",
        "text_source = StringIO(text)    # read the data as string\n",
        "parsed = parse(text_source)     # source ->parsing the data as the html form \n",
        "\n",
        "#find root node\n",
        "doc = parsed.getroot()\n",
        "\n",
        "# doc.findall(\".//TagName\") => find the tag lists\n",
        "uls = doc.findall('.//ul')\n",
        "\n",
        "#Get the Rising searches\n",
        "ul = uls[10]   \n",
        "spans = ul.findall('.//span')\n",
        "\n",
        "data_list= []  # to save all the keywords\n",
        "\n",
        "cnt = 1\n",
        "for data in spans:\n",
        "  if cnt % 2 == 0:  \n",
        "    print(int((cnt+1)/2),'->',data.text_content().strip())  # show the existing rising searches\n",
        "  cnt +=1  \n",
        "  data_list.append(data.text_content().strip()) #save each keyword\n",
        "    \n"
      ],
      "execution_count": 57,
      "outputs": [
        {
          "output_type": "stream",
          "text": [
            "1 -> 백석역\n",
            "2 -> 이선정\n",
            "3 -> 서인영 사건\n",
            "4 -> 수능 성적표\n",
            "5 -> 이설\n",
            "6 -> 홍현희\n",
            "7 -> 진학사\n",
            "8 -> 양수경\n",
            "9 -> 이경애 떡볶이\n",
            "10 -> 2019 수능 만점자\n",
            "11 -> 정가은\n",
            "12 -> lj\n",
            "13 -> 한국교육과정평가원\n",
            "14 -> 황지만\n",
            "15 -> 광주형 일자리\n",
            "16 -> 블레이드앤소울 레볼루션\n",
            "17 -> 수능\n",
            "18 -> 미씽 사라진여자\n",
            "19 -> 한정수\n",
            "20 -> 수능 등급컷\n"
          ],
          "name": "stdout"
        }
      ]
    },
    {
      "metadata": {
        "id": "0Xk_oFVcFzQU",
        "colab_type": "code",
        "outputId": "d4a51cb4-9c25-4b13-df89-98a568a1363f",
        "colab": {
          "base_uri": "https://localhost:8080/",
          "height": 202
        }
      },
      "cell_type": "code",
      "source": [
        "path='https://search.naver.com/search.naver?sm=top_hty&fbm=1&ie=utf8&query=' #This is the url for surfing\n",
        "\n",
        "matrix = [] #to count the score of relationship\n",
        "label = [1,2,3,4,5,6,7,8,9,10,11,12,13,14,15,16,17,18,19,20] #disjoint set\n",
        "\n",
        "cnt1 = 0\n",
        "\n",
        "for i in range(0, 20):\n",
        "  word = data_list[1 + cnt1]\n",
        "  search = path + word #url searching the keyword\n",
        "  text = requests.get(search).text # no worry about encoding url\n",
        "  \n",
        "  row = []\n",
        "  cnt2 = 0\n",
        "  for j in range(0, 20):\n",
        "    if cnt1 != cnt2: #no need to check when they are equivalent\n",
        "      target = data_list[1 + cnt2];\n",
        "      row.append(text.count(target) + 7*word.count(target) - NOISE) \n",
        "      \n",
        "      if row[int(cnt2/2)] >= THRESHOLD: #IF they are relative,\n",
        "        print(word, ' and ', target,)\n",
        "        #the representive number should be minimized\n",
        "        \n",
        "        #여기 정규화를 해서 row의합으로 각 row의 값을 나누던지 해보자\n",
        "        #그러려니, 전체적으로 점수 자체가 높은 것은 감안해서 평균을 다시 루트씌우고 곱하든지 고려해보자\n",
        "        #A와 B 관련 , B C 관련 이면 A C는 관련이 있는건가? 이것도 감안\n",
        "        \n",
        "        if label[int(cnt1/2)] < label[int(cnt2/2)]:\n",
        "          label[int(cnt2/2)] = label[int(cnt1/2)]  \n",
        "        \n",
        "        else:\n",
        "          label[int(cnt1/2)] = label[int(cnt2/2)]\n",
        "    \n",
        "    else :\n",
        "      row.append(0)\n",
        "    \n",
        "    cnt2 += 2\n",
        "  \n",
        "  matrix.append(row)  \n",
        "  cnt1 += 2\n",
        "  "
      ],
      "execution_count": 58,
      "outputs": [
        {
          "output_type": "stream",
          "text": [
            "이선정  and  정가은\n",
            "수능 성적표  and  수능\n",
            "진학사  and  수능\n",
            "양수경  and  한정수\n",
            "2019 수능 만점자  and  수능\n",
            "정가은  and  이선정\n",
            "lj  and  이선정\n",
            "한국교육과정평가원  and  수능\n",
            "황지만  and  이선정\n",
            "한정수  and  양수경\n",
            "수능 등급컷  and  수능\n"
          ],
          "name": "stdout"
        }
      ]
    },
    {
      "metadata": {
        "id": "G4W-z5rSF0Gz",
        "colab_type": "code",
        "outputId": "56755694-f441-43ef-b905-a73d31423b68",
        "colab": {
          "base_uri": "https://localhost:8080/",
          "height": 121
        }
      },
      "cell_type": "code",
      "source": [
        "\n",
        "print('\\n',label,'\\n')\n",
        "print(matrix)\n",
        "\n",
        "size = [0]\n",
        "size = size*20\n",
        "\n",
        "for i in range(0,20):\n",
        "  size[i] = sum(matrix[i])\n",
        " \n",
        "print(size)\n",
        "score =[0]\n",
        "score = score*20\n",
        "\n",
        "for i in range(0,20):\n",
        "  score[label[i] - 1] += 1/(i+1); #label is 1~20 => needed to subtract 1"
      ],
      "execution_count": 60,
      "outputs": [
        {
          "output_type": "stream",
          "text": [
            "\n",
            " [1, 2, 3, 4, 5, 6, 4, 8, 9, 4, 2, 2, 4, 2, 15, 16, 4, 18, 8, 4] \n",
            "\n",
            "[[0, 0, 0, 0, 2, 2, 0, 0, 0, 0, 0, 10, 0, 0, 2, 0, 27, 0, 2, 0], [4, 0, 1, 0, 2, 2, 0, 0, 0, 0, 35, 17, 0, 20, 2, 0, 27, 0, 2, 0], [4, 4, 0, 0, 2, 2, 0, 0, 0, 0, 2, 9, 0, 0, 2, 0, 27, 0, 2, 0], [4, 0, 0, 0, 2, 2, 0, 0, 0, 0, 0, 9, 12, 0, 2, 0, 186, 0, 2, 13], [4, 0, 0, 0, 0, 2, 0, 0, 0, 0, 0, 13, 0, 0, 2, 0, 27, 0, 2, 0], [4, 0, 0, 0, 2, 0, 0, 0, 0, 0, 0, 7, 0, 0, 2, 0, 27, 0, 2, 0], [4, 0, 0, 7, 2, 2, 0, 0, 0, 0, 0, 10, 5, 0, 2, 0, 105, 0, 2, 16], [4, 0, 0, 0, 2, 2, 0, 0, 0, 0, 0, 7, 0, 0, 2, 0, 27, 0, 45, 0], [4, 0, 0, 0, 2, 2, 0, 0, 0, 0, 0, 7, 0, 0, 2, 0, 27, 0, 2, 0], [4, 0, 0, 0, 2, 2, 1, 0, 0, 0, 0, 7, 1, 0, 2, 0, 187, 0, 2, 11], [4, 29, 1, 0, 2, 2, 0, 0, 0, 0, 0, 9, 0, 0, 2, 0, 27, 0, 2, 0], [4, 66, 0, 0, 2, 2, 0, 0, 0, 0, 12, 0, 0, 16, 2, 0, 27, 0, 2, 0], [4, 0, 0, 5, 2, 2, 0, 0, 0, 0, 0, 7, 0, 0, 2, 0, 74, 0, 2, 5], [4, 90, 0, 0, 2, 2, 0, 0, 0, 0, 3, 17, 0, 0, 2, 0, 27, 0, 2, 0], [4, 0, 0, 0, 2, 2, 0, 0, 0, 0, 0, 7, 0, 0, 0, 0, 27, 0, 2, 0], [4, 0, 0, 0, 2, 2, 0, 0, 0, 0, 0, 9, 0, 0, 2, 0, 27, 0, 2, 0], [4, 0, 0, 6, 2, 2, 2, 0, 0, 3, 0, 11, 8, 0, 2, 0, 0, 0, 2, 2], [4, 0, 0, 0, 2, 2, 0, 0, 0, 0, 0, 7, 0, 0, 2, 0, 27, 0, 2, 0], [4, 0, 0, 0, 2, 2, 0, 67, 0, 0, 0, 7, 0, 0, 2, 0, 27, 0, 0, 0], [4, 0, 0, 2, 2, 2, 10, 0, 0, 0, 0, 17, 8, 0, 2, 0, 180, 0, 2, 0]]\n",
            "[45, 112, 54, 232, 50, 44, 155, 89, 46, 219, 78, 133, 103, 149, 44, 48, 44, 46, 111, 229]\n"
          ],
          "name": "stdout"
        }
      ]
    },
    {
      "metadata": {
        "id": "QUTNRYleF0KA",
        "colab_type": "code",
        "outputId": "e35212b0-400e-4961-9965-971b16ace50d",
        "colab": {
          "base_uri": "https://localhost:8080/",
          "height": 252
        }
      },
      "cell_type": "code",
      "source": [
        "\n",
        "#RESULT\n",
        "print('\\n☆급상승 검색어 순위☆\\n')\n",
        "cnt = 1;\n",
        "\n",
        "#sorting according to SCORE\n",
        "for i in range(0,20):\n",
        "  max = 0\n",
        "  for j in range(1,20):\n",
        "    if score[j] > score[max]:\n",
        "      max = j;\n",
        "  \n",
        "  relative_word = ''\n",
        "  \n",
        "  for j in range(0,20):\n",
        "    if label[j] == max + 1:\n",
        "      relative_word += data_list[1 + 2*j] + ' | ' \n",
        "  \n",
        "  score[max] = 0;\n",
        "  \n",
        "  print(cnt, '. ', relative_word[0:-3])\n",
        "  cnt += 1\n",
        "  if(score.count(0) == 20):\n",
        "    break  "
      ],
      "execution_count": 61,
      "outputs": [
        {
          "output_type": "stream",
          "text": [
            "\n",
            "☆급상승 검색어 순위☆\n",
            "\n",
            "1 .  백석역\n",
            "2 .  이선정 | 정가은 | lj | 황지만\n",
            "3 .  수능 성적표 | 진학사 | 2019 수능 만점자 | 한국교육과정평가원 | 수능 | 수능 등급컷\n",
            "4 .  서인영 사건\n",
            "5 .  이설\n",
            "6 .  양수경 | 한정수\n",
            "7 .  홍현희\n",
            "8 .  이경애 떡볶이\n",
            "9 .  광주형 일자리\n",
            "10 .  블레이드앤소울 레볼루션\n",
            "11 .  미씽 사라진여자\n"
          ],
          "name": "stdout"
        }
      ]
    },
    {
      "metadata": {
        "id": "C95I2Q1ijPCL",
        "colab_type": "code",
        "colab": {}
      },
      "cell_type": "code",
      "source": [
        ""
      ],
      "execution_count": 0,
      "outputs": []
    }
  ]
}
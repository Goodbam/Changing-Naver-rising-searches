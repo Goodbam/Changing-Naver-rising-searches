{
  "nbformat": 4,
  "nbformat_minor": 0,
  "metadata": {
    "colab": {
      "name": "crawling(12/5/10AM).ipynb",
      "version": "0.3.2",
      "provenance": [],
      "collapsed_sections": [],
      "include_colab_link": true
    },
    "kernelspec": {
      "name": "python3",
      "display_name": "Python 3"
    },
    "accelerator": "GPU"
  },
  "cells": [
    {
      "cell_type": "markdown",
      "metadata": {
        "id": "view-in-github",
        "colab_type": "text"
      },
      "source": [
        "<a href=\"https://colab.research.google.com/github/Goodbam/Changing-Naver-rising-searches/blob/master/crawling(12_5_10AM).ipynb\" target=\"_parent\"><img src=\"https://colab.research.google.com/assets/colab-badge.svg\" alt=\"Open In Colab\"/></a>"
      ]
    },
    {
      "metadata": {
        "id": "tssl247HkHCi",
        "colab_type": "code",
        "outputId": "a4adcbef-ea2b-47bd-af81-b742d0f0eb81",
        "colab": {
          "base_uri": "https://localhost:8080/",
          "height": 235
        }
      },
      "cell_type": "code",
      "source": [
        "!pip install lxml\n",
        "!pip install parse"
      ],
      "execution_count": 1,
      "outputs": [
        {
          "output_type": "stream",
          "text": [
            "Collecting lxml\n",
            "\u001b[?25l  Downloading https://files.pythonhosted.org/packages/03/a4/9eea8035fc7c7670e5eab97f34ff2ef0ddd78a491bf96df5accedb0e63f5/lxml-4.2.5-cp36-cp36m-manylinux1_x86_64.whl (5.8MB)\n",
            "\u001b[K    100% |████████████████████████████████| 5.8MB 6.6MB/s \n",
            "\u001b[?25hInstalling collected packages: lxml\n",
            "Successfully installed lxml-4.2.5\n",
            "Collecting parse\n",
            "  Downloading https://files.pythonhosted.org/packages/b6/98/809e53e5778c59c4af9eb920605e7a8ab439407efbe89a6d51a46efd1937/parse-1.9.0.tar.gz\n",
            "Building wheels for collected packages: parse\n",
            "  Running setup.py bdist_wheel for parse ... \u001b[?25l-\b \bdone\n",
            "\u001b[?25h  Stored in directory: /root/.cache/pip/wheels/ef/db/c6/18568a2cc574848f3996ac4552241fbec046b7be29feb2077d\n",
            "Successfully built parse\n",
            "Installing collected packages: parse\n",
            "Successfully installed parse-1.9.0\n"
          ],
          "name": "stdout"
        }
      ]
    },
    {
      "metadata": {
        "id": "uxKEDAv_kLKH",
        "colab_type": "code",
        "colab": {}
      },
      "cell_type": "code",
      "source": [
        "import requests                 # url request\n",
        "from lxml.html import parse     # parsing the data as the html form\n",
        "from io import StringIO         # String I/O module\n",
        "\n",
        "THRESHOLD = 16 #limit to check whether they are relative or not\n",
        "NOISE = 9"
      ],
      "execution_count": 0,
      "outputs": []
    },
    {
      "metadata": {
        "id": "VnRDApPylNT_",
        "colab_type": "code",
        "outputId": "e380a65f-c9d2-4c38-86d0-86aa686a301d",
        "colab": {
          "base_uri": "https://localhost:8080/",
          "height": 353
        }
      },
      "cell_type": "code",
      "source": [
        "url = \"https://www.naver.com\"\n",
        "\n",
        "# Get html source\n",
        "text = requests.get(url).text\n",
        "\n",
        "# parsing the data as the html form\n",
        "text_source = StringIO(text)    # read the data as string\n",
        "parsed = parse(text_source)     # source ->parsing the data as the html form \n",
        "\n",
        "#find root node\n",
        "doc = parsed.getroot()\n",
        "\n",
        "# doc.findall(\".//TagName\") => find the tag lists\n",
        "uls = doc.findall('.//ul')\n",
        "\n",
        "#Get the Rising searches\n",
        "ul = uls[10]   \n",
        "spans = ul.findall('.//span')\n",
        "\n",
        "data_list= []  # to save all the keywords\n",
        "\n",
        "cnt = 1\n",
        "for data in spans:\n",
        "  if cnt % 2 == 0:  \n",
        "    print(int((cnt+1)/2),'->',data.text_content().strip())  # show the existing rising searches\n",
        "  cnt +=1  \n",
        "  data_list.append(data.text_content().strip()) #save each keyword\n",
        "    \n"
      ],
      "execution_count": 3,
      "outputs": [
        {
          "output_type": "stream",
          "text": [
            "1 -> 백석역\n",
            "2 -> 진학사\n",
            "3 -> 수능 등급컷\n",
            "4 -> 양수경 남편\n",
            "5 -> 홍현희\n",
            "6 -> 한국교육과정평가원\n",
            "7 -> 2019 수능 등급컷\n",
            "8 -> 수능\n",
            "9 -> 수능 성적 발표\n",
            "10 -> 황교익\n",
            "11 -> 처음학교로\n",
            "12 -> 이설\n",
            "13 -> 블레이드앤소울 레볼루션\n",
            "14 -> 한정수\n",
            "15 -> 하춘화나이\n",
            "16 -> 블랭크코퍼레이션\n",
            "17 -> 메가스터디\n",
            "18 -> 이일재\n",
            "19 -> 이선정\n",
            "20 -> 로맨스는 별책부록\n"
          ],
          "name": "stdout"
        }
      ]
    },
    {
      "metadata": {
        "id": "0Xk_oFVcFzQU",
        "colab_type": "code",
        "outputId": "7421452c-5207-45bd-9ed5-9394f93367f1",
        "colab": {
          "base_uri": "https://localhost:8080/",
          "height": 437
        }
      },
      "cell_type": "code",
      "source": [
        "path='https://search.naver.com/search.naver?sm=top_hty&fbm=1&ie=utf8&query=' #This is the url for surfing\n",
        "\n",
        "matrix = [] #to count the score of relationship\n",
        "label = [1,2,3,4,5,6,7,8,9,10,11,12,13,14,15,16,17,18,19,20] #disjoint set\n",
        "\n",
        "cnt1 = 0\n",
        "\n",
        "for i in range(0, 20):\n",
        "  word = data_list[1 + cnt1]\n",
        "  search = path + word #url searching the keyword\n",
        "  text = requests.get(search).text # no worry about encoding url\n",
        "  \n",
        "  row = []\n",
        "  cnt2 = 0\n",
        "  for j in range(0, 20):\n",
        "    if cnt1 != cnt2: #no need to check when they are equivalent\n",
        "      target = data_list[1 + cnt2];\n",
        "      row.append(text.count(target) + 7*word.count(target) - NOISE) \n",
        " \n",
        "      if row[int(cnt2/2)] >= THRESHOLD: #IF they are relative,\n",
        "        print(word, ' and ', target,)\n",
        "        #the representive number should be minimized\n",
        "        \n",
        "        #여기 정규화를 해서 row의합으로 각 row의 값을 나누던지 해보자\n",
        "        #그러려니, 전체적으로 점수 자체가 높은 것은 감안해서 평균을 다시 루트씌우고 곱하든지 고려해보자\n",
        "        #A와 B 관련 , B C 관련 이면 A C는 관련이 있는건가? 이것도 감안\n",
        "        \n",
        "        if label[int(cnt1/2)] < label[int(cnt2/2)]:\n",
        "          label[int(cnt2/2)] = label[int(cnt1/2)]  \n",
        "        \n",
        "        else:\n",
        "          label[int(cnt1/2)] = label[int(cnt2/2)]\n",
        "    \n",
        "    else :\n",
        "      row.append(0)\n",
        "    \n",
        "    cnt2 += 2\n",
        "  \n",
        "  matrix.append(row)  \n",
        "  cnt1 += 2\n",
        "  "
      ],
      "execution_count": 4,
      "outputs": [
        {
          "output_type": "stream",
          "text": [
            "백석역  and  수능\n",
            "진학사  and  수능 등급컷\n",
            "진학사  and  수능\n",
            "수능 등급컷  and  2019 수능 등급컷\n",
            "수능 등급컷  and  수능\n",
            "양수경 남편  and  수능\n",
            "양수경 남편  and  한정수\n",
            "홍현희  and  수능\n",
            "한국교육과정평가원  and  수능 등급컷\n",
            "한국교육과정평가원  and  수능\n",
            "2019 수능 등급컷  and  수능 등급컷\n",
            "2019 수능 등급컷  and  수능\n",
            "수능 성적 발표  and  수능 등급컷\n",
            "수능 성적 발표  and  수능\n",
            "황교익  and  수능\n",
            "처음학교로  and  수능\n",
            "이설  and  수능\n",
            "블레이드앤소울 레볼루션  and  수능\n",
            "한정수  and  수능\n",
            "하춘화나이  and  수능\n",
            "블랭크코퍼레이션  and  수능\n",
            "메가스터디  and  수능\n",
            "이일재  and  수능\n",
            "이선정  and  수능\n",
            "로맨스는 별책부록  and  수능\n"
          ],
          "name": "stdout"
        }
      ]
    },
    {
      "metadata": {
        "id": "G4W-z5rSF0Gz",
        "colab_type": "code",
        "outputId": "575d0909-bf4b-489a-cc5a-00c4b0299b4b",
        "colab": {
          "base_uri": "https://localhost:8080/",
          "height": 121
        }
      },
      "cell_type": "code",
      "source": [
        "print('\\n',label,'\\n')\n",
        "\n",
        "print(matrix)\n",
        "\n",
        "size = [0]\n",
        "size = size*20\n",
        "\n",
        "for i in range(0,20):\n",
        "  size[i] = sum(matrix[i])\n",
        "\n",
        "print(size)\n",
        "score =[0]\n",
        "score = score*20\n",
        "\n",
        "for i in range(0,20):\n",
        "  score[label[i] - 1] += 1/(i+1); #label is 1~20 => needed to subtract 1"
      ],
      "execution_count": 5,
      "outputs": [
        {
          "output_type": "stream",
          "text": [
            "\n",
            " [1, 1, 1, 1, 1, 1, 1, 1, 1, 1, 1, 1, 1, 1, 1, 1, 1, 1, 1, 1] \n",
            "\n",
            "[[0, 0, 9, 0, 2, 0, 0, 27, 0, 0, 0, 2, 0, 2, 0, 0, 0, 2, 0, 0], [4, 0, 28, 0, 2, 6, 15, 101, 2, 0, 0, 2, 0, 2, 0, 0, 0, 2, 0, 0], [4, 9, 0, 0, 2, 8, 18, 182, 7, 0, 0, 2, 0, 2, 0, 0, 1, 2, 0, 0], [4, 0, 9, 0, 2, 0, 0, 27, 0, 0, 0, 2, 0, 33, 0, 0, 0, 2, 0, 0], [4, 0, 9, 0, 0, 0, 0, 27, 0, 0, 0, 2, 0, 2, 0, 0, 0, 2, 0, 0], [4, 3, 28, 0, 2, 0, 9, 96, 3, 0, 0, 2, 0, 2, 0, 0, 0, 2, 0, 0], [4, 10, 92, 0, 2, 8, 0, 219, 7, 0, 0, 2, 0, 2, 0, 0, 3, 2, 0, 0], [4, 2, 13, 0, 2, 9, 3, 0, 5, 0, 0, 2, 0, 2, 0, 0, 1, 2, 0, 0], [4, 2, 22, 0, 2, 5, 8, 200, 0, 0, 0, 2, 0, 2, 0, 0, 2, 2, 0, 0], [4, 0, 9, 0, 2, 0, 0, 27, 0, 0, 0, 2, 0, 2, 0, 0, 0, 2, 0, 0], [4, 0, 9, 0, 2, 0, 0, 27, 0, 0, 0, 2, 0, 2, 0, 0, 0, 2, 0, 0], [4, 0, 9, 0, 2, 0, 0, 27, 0, 0, 0, 0, 0, 2, 0, 0, 0, 2, 0, 0], [4, 0, 9, 0, 2, 0, 0, 27, 0, 0, 0, 2, 0, 2, 0, 0, 0, 2, 0, 0], [4, 0, 9, 2, 2, 0, 0, 27, 0, 0, 0, 2, 0, 0, 0, 0, 0, 2, 0, 0], [4, 0, 9, 0, 2, 0, 0, 27, 0, 0, 0, 2, 0, 2, 0, 0, 0, 2, 0, 0], [4, 0, 9, 0, 2, 0, 0, 27, 0, 0, 0, 2, 0, 2, 0, 0, 0, 2, 0, 0], [4, 2, 10, 0, 2, 0, 0, 51, 2, 0, 0, 2, 0, 3, 0, 0, 0, 2, 0, 0], [4, 0, 9, 0, 2, 0, 0, 27, 0, 0, 0, 2, 0, 2, 0, 0, 0, 0, 0, 0], [4, 0, 9, 0, 2, 0, 0, 27, 0, 0, 0, 2, 0, 2, 0, 0, 0, 2, 0, 0], [4, 0, 9, 0, 2, 0, 0, 27, 0, 0, 0, 2, 0, 2, 0, 0, 0, 2, 0, 0]]\n",
            "[44, 164, 237, 79, 46, 151, 351, 45, 251, 48, 48, 46, 48, 48, 48, 48, 78, 46, 48, 48]\n"
          ],
          "name": "stdout"
        }
      ]
    },
    {
      "metadata": {
        "id": "QUTNRYleF0KA",
        "colab_type": "code",
        "outputId": "875b871d-58e8-47ae-cfce-c08bd2c30239",
        "colab": {
          "base_uri": "https://localhost:8080/",
          "height": 104
        }
      },
      "cell_type": "code",
      "source": [
        "#RESULT\n",
        "print('\\n☆급상승 검색어 순위☆\\n')\n",
        "cnt = 1;\n",
        "\n",
        "#sorting according to SCORE\n",
        "for i in range(0,20):\n",
        "  max = 0\n",
        "  for j in range(1,20):\n",
        "    if score[j] > score[max]:\n",
        "      max = j;\n",
        "  \n",
        "  relative_word = ''\n",
        "  \n",
        "  for j in range(0,20):\n",
        "    if label[j] == max + 1:\n",
        "      relative_word += data_list[1 + 2*j] + ' | ' \n",
        "  \n",
        "  score[max] = 0;\n",
        "  \n",
        "  print(cnt, '. ', relative_word[0:-3])\n",
        "  cnt += 1\n",
        "  if(score.count(0) == 20):\n",
        "    break  "
      ],
      "execution_count": 6,
      "outputs": [
        {
          "output_type": "stream",
          "text": [
            "\n",
            "☆급상승 검색어 순위☆\n",
            "\n",
            "1 .  백석역 | 진학사 | 수능 등급컷 | 양수경 남편 | 홍현희 | 한국교육과정평가원 | 2019 수능 등급컷 | 수능 | 수능 성적 발표 | 황교익 | 처음학교로 | 이설 | 블레이드앤소울 레볼루션 | 한정수 | 하춘화나이 | 블랭크코퍼레이션 | 메가스터디 | 이일재 | 이선정 | 로맨스는 별책부록\n"
          ],
          "name": "stdout"
        }
      ]
    },
    {
      "metadata": {
        "id": "C95I2Q1ijPCL",
        "colab_type": "code",
        "colab": {}
      },
      "cell_type": "code",
      "source": [
        ""
      ],
      "execution_count": 0,
      "outputs": []
    }
  ]
}
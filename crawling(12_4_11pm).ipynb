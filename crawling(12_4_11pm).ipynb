{
  "nbformat": 4,
  "nbformat_minor": 0,
  "metadata": {
    "colab": {
      "name": "crawling(12/4/11pm).ipynb",
      "version": "0.3.2",
      "provenance": [],
      "collapsed_sections": [],
      "include_colab_link": true
    },
    "kernelspec": {
      "name": "python3",
      "display_name": "Python 3"
    },
    "accelerator": "GPU"
  },
  "cells": [
    {
      "cell_type": "markdown",
      "metadata": {
        "id": "view-in-github",
        "colab_type": "text"
      },
      "source": [
        "<a href=\"https://colab.research.google.com/github/Goodbam/Changing-Naver-rising-searches/blob/master/crawling(12_4_11pm).ipynb\" target=\"_parent\"><img src=\"https://colab.research.google.com/assets/colab-badge.svg\" alt=\"Open In Colab\"/></a>"
      ]
    },
    {
      "metadata": {
        "id": "tssl247HkHCi",
        "colab_type": "code",
        "outputId": "66e43255-7123-4089-95b1-956c995faac4",
        "colab": {
          "base_uri": "https://localhost:8080/",
          "height": 50
        }
      },
      "cell_type": "code",
      "source": [
        "!pip install lxml\n",
        "!pip install parse"
      ],
      "execution_count": 32,
      "outputs": [
        {
          "output_type": "stream",
          "text": [
            "Requirement already satisfied: lxml in /usr/local/lib/python3.6/dist-packages (4.2.5)\n",
            "Requirement already satisfied: parse in /usr/local/lib/python3.6/dist-packages (1.9.0)\n"
          ],
          "name": "stdout"
        }
      ]
    },
    {
      "metadata": {
        "id": "uxKEDAv_kLKH",
        "colab_type": "code",
        "colab": {}
      },
      "cell_type": "code",
      "source": [
        "import requests                 # url request\n",
        "from lxml.html import parse     # parsing the data as the html form\n",
        "from io import StringIO         # String I/O module\n",
        "\n",
        "THRESHOLD = 16 #limit to check whether they are relative or not\n",
        "NOISE = 9"
      ],
      "execution_count": 0,
      "outputs": []
    },
    {
      "metadata": {
        "id": "VnRDApPylNT_",
        "colab_type": "code",
        "outputId": "3cf48d04-5c7f-4276-c19c-cae749138892",
        "colab": {
          "base_uri": "https://localhost:8080/",
          "height": 353
        }
      },
      "cell_type": "code",
      "source": [
        "url = \"https://www.naver.com\"\n",
        "\n",
        "# Get html source\n",
        "text = requests.get(url).text\n",
        "\n",
        "# parsing the data as the html form\n",
        "text_source = StringIO(text)    # read the data as string\n",
        "parsed = parse(text_source)     # source ->parsing the data as the html form \n",
        "\n",
        "#find root node\n",
        "doc = parsed.getroot()\n",
        "\n",
        "# doc.findall(\".//TagName\") => find the tag lists\n",
        "uls = doc.findall('.//ul')\n",
        "\n",
        "#Get the Rising searches\n",
        "ul = uls[10]   \n",
        "spans = ul.findall('.//span')\n",
        "\n",
        "data_list= []  # to save all the keywords\n",
        "\n",
        "cnt = 1\n",
        "for data in spans:\n",
        "  if cnt % 2 == 0:  \n",
        "    print(int((cnt+1)/2),'->',data.text_content().strip())  # show the existing rising searches\n",
        "  cnt +=1  \n",
        "  data_list.append(data.text_content().strip()) #save each keyword\n",
        "    \n"
      ],
      "execution_count": 34,
      "outputs": [
        {
          "output_type": "stream",
          "text": [
            "1 -> 백석역\n",
            "2 -> 필수지방산\n",
            "3 -> 조정민\n",
            "4 -> 황지만\n",
            "5 -> 정재형\n",
            "6 -> 이일재\n",
            "7 -> 백석\n",
            "8 -> 오일러 항등식\n",
            "9 -> 서인영 사건\n",
            "10 -> 이선정\n",
            "11 -> 라이신\n",
            "12 -> 장고도\n",
            "13 -> 김지미\n",
            "14 -> 가우스\n",
            "15 -> 처음학교로\n",
            "16 -> lj\n",
            "17 -> 식품안전나라\n",
            "18 -> 아보카도 오일\n",
            "19 -> 정가은\n",
            "20 -> 2019 수능 등급컷\n"
          ],
          "name": "stdout"
        }
      ]
    },
    {
      "metadata": {
        "id": "0Xk_oFVcFzQU",
        "colab_type": "code",
        "outputId": "4cbd3bc0-ca69-4042-a189-a525cffaab6e",
        "colab": {
          "base_uri": "https://localhost:8080/",
          "height": 185
        }
      },
      "cell_type": "code",
      "source": [
        "path='https://search.naver.com/search.naver?sm=top_hty&fbm=1&ie=utf8&query=' #This is the url for surfing\n",
        "\n",
        "matrix = [] #to count the score of relationship\n",
        "label = [1,2,3,4,5,6,7,8,9,10,11,12,13,14,15,16,17,18,19,20] #disjoint set\n",
        "\n",
        "cnt1 = 0\n",
        "\n",
        "for i in range(0, 20):\n",
        "  word = data_list[1 + cnt1]\n",
        "  search = path + word #url searching the keyword\n",
        "  text = requests.get(search).text # no worry about encoding url\n",
        "  \n",
        "  row = []\n",
        "  cnt2 = 0\n",
        "  for j in range(0, 20):\n",
        "    if cnt1 != cnt2: #no need to check when they are equivalent\n",
        "      target = data_list[1 + cnt2];\n",
        "      row.append(text.count(target) + 7*word.count(target) - NOISE) \n",
        " \n",
        "      if row[int(cnt2/2)] >= THRESHOLD: #IF they are relative,\n",
        "        print(word, ' and ', target,)\n",
        "        #the representive number should be minimized\n",
        "        \n",
        "        #여기 정규화를 해서 row의합으로 각 row의 값을 나누던지 해보자\n",
        "        #그러려니, 전체적으로 점수 자체가 높은 것은 감안해서 평균을 다시 루트씌우고 곱하든지 고려해보자\n",
        "        #A와 B 관련 , B C 관련 이면 A C는 관련이 있는건가? 이것도 감안\n",
        "        \n",
        "        if label[int(cnt1/2)] < label[int(cnt2/2)]:\n",
        "          label[int(cnt2/2)] = label[int(cnt1/2)]  \n",
        "        \n",
        "        else:\n",
        "          label[int(cnt1/2)] = label[int(cnt2/2)]\n",
        "    \n",
        "    else :\n",
        "      row.append(0)\n",
        "    \n",
        "    cnt2 += 2\n",
        "  \n",
        "  matrix.append(row)  \n",
        "  cnt1 += 2\n",
        "  "
      ],
      "execution_count": 35,
      "outputs": [
        {
          "output_type": "stream",
          "text": [
            "백석역  and  백석\n",
            "조정민  and  김지미\n",
            "황지만  and  이선정\n",
            "백석  and  백석역\n",
            "이선정  and  황지만\n",
            "이선정  and  lj\n",
            "김지미  and  조정민\n",
            "lj  and  황지만\n",
            "lj  and  이선정\n",
            "정가은  and  이선정\n"
          ],
          "name": "stdout"
        }
      ]
    },
    {
      "metadata": {
        "id": "G4W-z5rSF0Gz",
        "colab_type": "code",
        "outputId": "a56d21c3-918c-4d1d-8cf8-d6ae007cf434",
        "colab": {
          "base_uri": "https://localhost:8080/",
          "height": 121
        }
      },
      "cell_type": "code",
      "source": [
        "print('\\n',label,'\\n')\n",
        "\n",
        "print(matrix)\n",
        "\n",
        "size = [0]\n",
        "size = size*20\n",
        "\n",
        "for i in range(0,20):\n",
        "  size[i] = sum(matrix[i])\n",
        "\n",
        "print(size)\n",
        "score =[0]\n",
        "score = score*20\n",
        "\n",
        "for i in range(0,20):\n",
        "  score[label[i] - 1] += 1/(i+1); #label is 1~20 => needed to subtract 1"
      ],
      "execution_count": 36,
      "outputs": [
        {
          "output_type": "stream",
          "text": [
            "\n",
            " [1, 2, 3, 4, 5, 6, 1, 8, 9, 4, 11, 12, 3, 14, 15, 4, 17, 18, 4, 20] \n",
            "\n",
            "[[0, 0, 0, 0, 0, 0, 189, 0, 0, 2, 0, 0, 0, 0, 0, 8, 0, 0, 0, 0], [2, 0, 0, 0, 0, 0, 11, 0, 0, 2, 0, 0, 0, 0, 0, 8, 0, 0, 0, 0], [2, 0, 0, 0, 0, 0, 11, 0, 0, 2, 0, 0, 16, 0, 0, 7, 0, 0, 0, 0], [2, 0, 0, 0, 0, 0, 11, 0, 0, 116, 0, 0, 0, 0, 0, 13, 0, 0, 3, 0], [2, 0, 0, 0, 0, 0, 11, 0, 0, 2, 0, 0, 0, 0, 0, 9, 0, 0, 0, 0], [2, 0, 0, 0, 0, 0, 11, 0, 0, 2, 0, 0, 0, 0, 0, 7, 0, 0, 0, 0], [30, 0, 0, 0, 0, 0, 0, 0, 0, 2, 0, 0, 0, 0, 0, 7, 0, 0, 0, 0], [2, 0, 0, 0, 0, 0, 11, 0, 0, 2, 0, 0, 0, 0, 0, 7, 0, 0, 0, 0], [2, 0, 0, 0, 0, 0, 11, 0, 0, 5, 0, 0, 0, 0, 0, 9, 0, 0, 0, 0], [2, 0, 0, 33, 0, 0, 11, 0, 0, 0, 0, 0, 0, 0, 0, 20, 0, 0, 15, 0], [2, 0, 0, 0, 0, 0, 11, 0, 0, 2, 0, 0, 0, 0, 0, 14, 0, 0, 0, 0], [2, 0, 0, 0, 0, 0, 11, 0, 0, 2, 0, 0, 0, 0, 0, 7, 0, 0, 0, 0], [2, 0, 21, 0, 0, 0, 11, 0, 0, 2, 0, 0, 0, 0, 0, 7, 0, 0, 0, 0], [2, 0, 0, 0, 0, 0, 11, 0, 0, 2, 0, 0, 0, 0, 0, 8, 0, 0, 0, 0], [2, 0, 0, 0, 0, 0, 11, 0, 0, 2, 0, 0, 0, 0, 0, 8, 0, 0, 0, 0], [2, 0, 0, 35, 0, 0, 11, 0, 0, 68, 0, 0, 0, 0, 0, 0, 0, 0, 1, 0], [2, 0, 0, 0, 0, 0, 11, 0, 0, 2, 0, 0, 0, 0, 0, 8, 0, 0, 0, 0], [2, 0, 0, 0, 0, 0, 11, 0, 0, 2, 0, 0, 0, 0, 0, 13, 0, 0, 0, 0], [2, 0, 0, 2, 0, 0, 11, 0, 0, 37, 0, 0, 0, 0, 0, 7, 0, 0, 0, 0], [2, 0, 0, 0, 0, 0, 11, 0, 0, 2, 0, 0, 0, 0, 0, 11, 0, 0, 0, 0]]\n",
            "[199, 23, 38, 145, 24, 22, 39, 22, 27, 81, 29, 22, 43, 23, 23, 117, 23, 28, 59, 26]\n"
          ],
          "name": "stdout"
        }
      ]
    },
    {
      "metadata": {
        "id": "QUTNRYleF0KA",
        "colab_type": "code",
        "outputId": "a1840b5a-f865-4135-b5dc-68a6e41c7f25",
        "colab": {
          "base_uri": "https://localhost:8080/",
          "height": 319
        }
      },
      "cell_type": "code",
      "source": [
        "#RESULT\n",
        "print('\\n☆급상승 검색어 순위☆\\n')\n",
        "cnt = 1;\n",
        "\n",
        "#sorting according to SCORE\n",
        "for i in range(0,20):\n",
        "  max = 0\n",
        "  for j in range(1,20):\n",
        "    if score[j] > score[max]:\n",
        "      max = j;\n",
        "  \n",
        "  relative_word = ''\n",
        "  \n",
        "  for j in range(0,20):\n",
        "    if label[j] == max + 1:\n",
        "      relative_word += data_list[1 + 2*j] + ' | ' \n",
        "  \n",
        "  score[max] = 0;\n",
        "  \n",
        "  print(cnt, '. ', relative_word[0:-3])\n",
        "  cnt += 1\n",
        "  if(score.count(0) == 20):\n",
        "    break  "
      ],
      "execution_count": 37,
      "outputs": [
        {
          "output_type": "stream",
          "text": [
            "\n",
            "☆급상승 검색어 순위☆\n",
            "\n",
            "1 .  백석역 | 백석\n",
            "2 .  필수지방산\n",
            "3 .  황지만 | 이선정 | lj | 정가은\n",
            "4 .  조정민 | 김지미\n",
            "5 .  정재형\n",
            "6 .  이일재\n",
            "7 .  오일러 항등식\n",
            "8 .  서인영 사건\n",
            "9 .  라이신\n",
            "10 .  장고도\n",
            "11 .  가우스\n",
            "12 .  처음학교로\n",
            "13 .  식품안전나라\n",
            "14 .  아보카도 오일\n",
            "15 .  2019 수능 등급컷\n"
          ],
          "name": "stdout"
        }
      ]
    },
    {
      "metadata": {
        "id": "9Se8kjTi5qAY",
        "colab_type": "code",
        "colab": {}
      },
      "cell_type": "code",
      "source": [
        ""
      ],
      "execution_count": 0,
      "outputs": []
    }
  ]
}
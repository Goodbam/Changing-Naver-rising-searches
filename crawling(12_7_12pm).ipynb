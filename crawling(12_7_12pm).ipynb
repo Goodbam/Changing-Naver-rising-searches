{
  "nbformat": 4,
  "nbformat_minor": 0,
  "metadata": {
    "colab": {
      "name": "crawling(12/7/12am).ipynb",
      "version": "0.3.2",
      "provenance": [],
      "collapsed_sections": [],
      "include_colab_link": true
    },
    "kernelspec": {
      "name": "python3",
      "display_name": "Python 3"
    },
    "accelerator": "GPU"
  },
  "cells": [
    {
      "cell_type": "markdown",
      "metadata": {
        "id": "view-in-github",
        "colab_type": "text"
      },
      "source": [
        "<a href=\"https://colab.research.google.com/github/Goodbam/Changing-Naver-rising-searches/blob/master/crawling(12_7_12pm).ipynb\" target=\"_parent\"><img src=\"https://colab.research.google.com/assets/colab-badge.svg\" alt=\"Open In Colab\"/></a>"
      ]
    },
    {
      "metadata": {
        "id": "tssl247HkHCi",
        "colab_type": "code",
        "outputId": "87902c57-abfa-4cfa-c230-c170317b2269",
        "colab": {
          "base_uri": "https://localhost:8080/",
          "height": 50
        }
      },
      "cell_type": "code",
      "source": [
        "!pip install lxml\n",
        "!pip install parse"
      ],
      "execution_count": 16,
      "outputs": [
        {
          "output_type": "stream",
          "text": [
            "Requirement already satisfied: lxml in /usr/local/lib/python3.6/dist-packages (4.2.5)\n",
            "Requirement already satisfied: parse in /usr/local/lib/python3.6/dist-packages (1.9.0)\n"
          ],
          "name": "stdout"
        }
      ]
    },
    {
      "metadata": {
        "id": "uxKEDAv_kLKH",
        "colab_type": "code",
        "colab": {}
      },
      "cell_type": "code",
      "source": [
        "import requests                 # url request\n",
        "from lxml.html import parse     # parsing the data as the html form\n",
        "from io import StringIO         # String I/O module\n",
        "\n",
        "THRESHOLD = 28 #limit to check whether they are relative or not\n",
        "NOISE = 9"
      ],
      "execution_count": 0,
      "outputs": []
    },
    {
      "metadata": {
        "id": "VnRDApPylNT_",
        "colab_type": "code",
        "outputId": "8bf919bc-f099-4f4e-a4f0-4bd1d1476078",
        "colab": {
          "base_uri": "https://localhost:8080/",
          "height": 353
        }
      },
      "cell_type": "code",
      "source": [
        "url = \"https://www.naver.com\"\n",
        "\n",
        "# Get html source\n",
        "text = requests.get(url).text\n",
        "\n",
        "# parsing the data as the html form\n",
        "text_source = StringIO(text)    # read the data as string\n",
        "parsed = parse(text_source)     # source ->parsing the data as the html form \n",
        "\n",
        "#find root node\n",
        "doc = parsed.getroot()\n",
        "\n",
        "# doc.findall(\".//TagName\") => find the tag lists\n",
        "uls = doc.findall('.//ul')\n",
        "\n",
        "#Get the Rising searches\n",
        "ul = uls[10]   \n",
        "spans = ul.findall('.//span')\n",
        "\n",
        "data_list= []  # to save all the keywords\n",
        "\n",
        "cnt = 1\n",
        "for data in spans:\n",
        "  if cnt % 2 == 0:  \n",
        "    print(int((cnt+1)/2),'->',data.text_content().strip())  # show the existing rising searches\n",
        "  cnt +=1  \n",
        "  data_list.append(data.text_content().strip()) #save each keyword\n",
        "    \n"
      ],
      "execution_count": 18,
      "outputs": [
        {
          "output_type": "stream",
          "text": [
            "1 -> 이유몰\n",
            "2 -> 광희\n",
            "3 -> 떠리몰\n",
            "4 -> 킴스닷컴\n",
            "5 -> 고고싱\n",
            "6 -> 훕시티\n",
            "7 -> 이지안\n",
            "8 -> 리퍼브매장\n",
            "9 -> 화웨이\n",
            "10 -> 서수연\n",
            "11 -> 대설\n",
            "12 -> 한고은\n",
            "13 -> 이은희\n",
            "14 -> 박항서\n",
            "15 -> 대전과학기술대학교\n",
            "16 -> 롤 올스타전\n",
            "17 -> 황광희\n",
            "18 -> 스즈키컵\n",
            "19 -> 김정훈\n",
            "20 -> 김제동\n"
          ],
          "name": "stdout"
        }
      ]
    },
    {
      "metadata": {
        "id": "0Xk_oFVcFzQU",
        "colab_type": "code",
        "outputId": "e2e2486a-dbfe-4007-8995-c1fe7ce0e015",
        "colab": {
          "base_uri": "https://localhost:8080/",
          "height": 218
        }
      },
      "cell_type": "code",
      "source": [
        "path='https://search.naver.com/search.naver?sm=top_hty&fbm=1&ie=utf8&query=' #This is the url for surfing\n",
        "\n",
        "matrix = [] #to count the score of relationship\n",
        "label = [1,2,3,4,5,6,7,8,9,10,11,12,13,14,15,16,17,18,19,20] #disjoint set\n",
        "\n",
        "cnt1 = 0\n",
        "\n",
        "for i in range(0, 20):\n",
        "  word = data_list[1 + cnt1]\n",
        "  search = path + word #url searching the keyword\n",
        "  text = requests.get(search).text # no worry about encoding url\n",
        "  \n",
        "  row = []\n",
        "  cnt2 = 0\n",
        "  for j in range(0, 20):\n",
        "    if cnt1 != cnt2: #no need to check when they are equivalent\n",
        "      target = data_list[1 + cnt2];\n",
        "      row.append(text.count(target) + 7*word.count(target) - NOISE) \n",
        "      \n",
        "      if row[int(cnt2/2)] >= THRESHOLD: #IF they are relative,\n",
        "        print(word, ' and ', target,)\n",
        "        #the representive number should be minimized\n",
        "        \n",
        "        if label[int(cnt1/2)] < label[int(cnt2/2)]:\n",
        "          label[int(cnt2/2)] = label[int(cnt1/2)]  \n",
        "        \n",
        "        else:\n",
        "          label[int(cnt1/2)] = label[int(cnt2/2)]\n",
        "    \n",
        "    else :\n",
        "      row.append(0)\n",
        "    \n",
        "    cnt2 += 2\n",
        "  \n",
        "  matrix.append(row)  \n",
        "  cnt1 += 2\n",
        "  "
      ],
      "execution_count": 19,
      "outputs": [
        {
          "output_type": "stream",
          "text": [
            "이유몰  and  리퍼브매장\n",
            "떠리몰  and  이유몰\n",
            "킴스닷컴  and  이유몰\n",
            "킴스닷컴  and  리퍼브매장\n",
            "이지안  and  서수연\n",
            "이지안  and  이은희\n",
            "리퍼브매장  and  이유몰\n",
            "서수연  and  이지안\n",
            "이은희  and  이지안\n",
            "박항서  and  스즈키컵\n",
            "황광희  and  광희\n",
            "스즈키컵  and  박항서\n"
          ],
          "name": "stdout"
        }
      ]
    },
    {
      "metadata": {
        "id": "G4W-z5rSF0Gz",
        "colab_type": "code",
        "outputId": "b7c8b035-6f7a-4d83-8e91-f0ee1dcaf4de",
        "colab": {
          "base_uri": "https://localhost:8080/",
          "height": 420
        }
      },
      "cell_type": "code",
      "source": [
        "\n",
        "print('\\n',label,'\\n')\n",
        "\n",
        "for i in range(20):\n",
        "  print(matrix[i])\n",
        "\n",
        "size = [0]\n",
        "size = size*20\n",
        "\n",
        "for i in range(0,20):\n",
        "  size[i] = sum(matrix[i])\n",
        " \n",
        "print(size)\n",
        "score =[0]\n",
        "score = score*20\n",
        "\n",
        "for i in range(0,20):\n",
        "  score[label[i] - 1] += 1/(i+1); #label is 1~20 => needed to subtract 1"
      ],
      "execution_count": 20,
      "outputs": [
        {
          "output_type": "stream",
          "text": [
            "\n",
            " [1, 2, 1, 1, 5, 6, 7, 1, 9, 7, 11, 12, 7, 14, 15, 16, 2, 14, 19, 20] \n",
            "\n",
            "[0, 9, 18, 21, 0, 0, 2, 35, 2, 2, 0, 2, 0, 2, 0, 0, 0, 2, 0, 0]\n",
            "[2, 0, 0, 0, 0, 0, 2, 0, 2, 2, 0, 2, 0, 2, 0, 0, 7, 2, 0, 0]\n",
            "[28, 9, 0, 11, 0, 0, 2, 13, 2, 2, 0, 2, 0, 2, 0, 0, 0, 2, 0, 0]\n",
            "[92, 9, 23, 0, 0, 0, 2, 39, 2, 2, 0, 2, 0, 2, 0, 0, 0, 2, 0, 0]\n",
            "[2, 9, 0, 0, 0, 0, 2, 0, 2, 2, 0, 2, 0, 2, 0, 0, 0, 2, 0, 0]\n",
            "[2, 9, 0, 0, 0, 0, 2, 0, 2, 2, 0, 2, 0, 2, 0, 0, 0, 2, 0, 0]\n",
            "[2, 9, 0, 0, 0, 0, 0, 0, 2, 39, 0, 2, 61, 2, 0, 0, 0, 2, 0, 0]\n",
            "[44, 9, 25, 15, 0, 0, 2, 0, 2, 2, 0, 2, 0, 2, 0, 0, 0, 2, 0, 0]\n",
            "[2, 9, 0, 0, 0, 0, 2, 0, 0, 2, 0, 2, 0, 2, 0, 0, 0, 2, 0, 0]\n",
            "[2, 9, 0, 0, 0, 0, 45, 0, 2, 0, 0, 2, 27, 2, 0, 0, 0, 2, 0, 0]\n",
            "[2, 9, 0, 0, 0, 0, 2, 0, 2, 2, 0, 2, 0, 2, 0, 0, 0, 2, 0, 0]\n",
            "[2, 9, 0, 0, 0, 0, 2, 0, 2, 2, 0, 0, 0, 2, 0, 0, 0, 2, 0, 0]\n",
            "[2, 9, 0, 0, 0, 0, 74, 0, 2, 23, 0, 2, 0, 2, 0, 0, 0, 2, 0, 0]\n",
            "[2, 9, 0, 0, 0, 0, 2, 0, 2, 2, 0, 2, 0, 0, 0, 0, 0, 32, 0, 0]\n",
            "[2, 9, 0, 0, 0, 0, 2, 0, 2, 2, 0, 2, 0, 2, 0, 0, 0, 2, 0, 0]\n",
            "[2, 9, 0, 0, 0, 0, 2, 0, 2, 2, 0, 2, 0, 2, 0, 0, 0, 2, 0, 0]\n",
            "[2, 165, 0, 0, 0, 0, 2, 0, 2, 2, 0, 2, 0, 2, 0, 0, 0, 2, 0, 0]\n",
            "[2, 9, 0, 0, 0, 0, 2, 0, 2, 2, 0, 2, 0, 60, 0, 0, 0, 0, 0, 0]\n",
            "[2, 9, 0, 0, 0, 0, 2, 0, 2, 2, 0, 2, 0, 2, 0, 0, 0, 2, 0, 0]\n",
            "[2, 9, 0, 0, 0, 0, 2, 0, 2, 2, 0, 2, 0, 2, 0, 0, 0, 2, 0, 0]\n",
            "[95, 21, 73, 175, 23, 23, 119, 105, 21, 91, 23, 21, 116, 51, 23, 23, 179, 79, 23, 23]\n"
          ],
          "name": "stdout"
        }
      ]
    },
    {
      "metadata": {
        "id": "QUTNRYleF0KA",
        "colab_type": "code",
        "outputId": "a431973b-044f-4048-db15-1cce839207b1",
        "colab": {
          "base_uri": "https://localhost:8080/",
          "height": 286
        }
      },
      "cell_type": "code",
      "source": [
        "\n",
        "#RESULT\n",
        "print('\\n☆급상승 검색어 순위☆\\n')\n",
        "cnt = 1;\n",
        "\n",
        "#sorting according to SCORE\n",
        "for i in range(0,20):\n",
        "  max = 0\n",
        "  for j in range(1,20):\n",
        "    if score[j] > score[max]:\n",
        "      max = j;\n",
        "  \n",
        "  relative_word = ''\n",
        "  \n",
        "  for j in range(0,20):\n",
        "    if label[j] == max + 1:\n",
        "      relative_word += data_list[1 + 2*j] + ' | ' \n",
        "  \n",
        "  score[max] = 0;\n",
        "  \n",
        "  print(cnt, '. ', relative_word[0:-3])\n",
        "  cnt += 1\n",
        "  if(score.count(0) == 20):\n",
        "    break  "
      ],
      "execution_count": 21,
      "outputs": [
        {
          "output_type": "stream",
          "text": [
            "\n",
            "☆급상승 검색어 순위☆\n",
            "\n",
            "1 .  이유몰 | 떠리몰 | 킴스닷컴 | 리퍼브매장\n",
            "2 .  광희 | 황광희\n",
            "3 .  이지안 | 서수연 | 이은희\n",
            "4 .  고고싱\n",
            "5 .  훕시티\n",
            "6 .  박항서 | 스즈키컵\n",
            "7 .  화웨이\n",
            "8 .  대설\n",
            "9 .  한고은\n",
            "10 .  대전과학기술대학교\n",
            "11 .  롤 올스타전\n",
            "12 .  김정훈\n",
            "13 .  김제동\n"
          ],
          "name": "stdout"
        }
      ]
    }
  ]
}